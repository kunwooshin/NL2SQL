{
 "cells": [
  {
   "cell_type": "code",
   "execution_count": 11,
   "id": "809e45e7",
   "metadata": {},
   "outputs": [],
   "source": [
    "import numpy as np\n",
    "import os \n",
    "import pandas as pd "
   ]
  },
  {
   "cell_type": "code",
   "execution_count": 129,
   "metadata": {},
   "outputs": [],
   "source": [
    "# scan the directory and store the filenames\n",
    "files = []\n",
    "\n",
    "for dirname, _, filenames in os.walk('/Users/kunwooshin/Desktop/VLDB/nl2sql/spider/database'):\n",
    "    for filename in filenames:\n",
    "        files.append(dirname+'/'+filename)\n",
    "\n",
    "ddl_files = [filename for filename in files if filename.endswith(\".sql\")]\n",
    "\n",
    "# extract the db_id from the filename\n",
    "db_id = []\n",
    "\n",
    "for i in range(len(ddl_files)):\n",
    "    file_path = ddl_files[i]\n",
    "    db_id.append(file_path.split('/')[8])\n",
    "    \n",
    "# initilalize ddl table    \n",
    "ddl_tbl = pd.DataFrame({'db_id':db_id, 'CREATE':'', 'INSERT':''})"
   ]
  },
  {
   "cell_type": "code",
   "execution_count": 130,
   "metadata": {},
   "outputs": [],
   "source": [
    "# append CREATE TABLE and INSERT queries for each db_id\n",
    "for i in range(len(ddl_files)):\n",
    "    create_script = ''\n",
    "    insert_script = ''\n",
    "\n",
    "    with open(ddl_files[i], 'r') as f:\n",
    "        for line in f:\n",
    "            if not any(keyword in line for keyword in ['PRAGMA', 'BEGIN TRANSACTION', 'COMMIT', '--', 'DROP', '***', '<']):\n",
    "                if ('INSERT' in line) or ('insert' in line):\n",
    "                    insert_script += line\n",
    "                else:\n",
    "                    create_script += line\n",
    "                    \n",
    "    ddl_tbl.iloc[i, 1], ddl_tbl.iloc[i, 2] = create_script.replace('\\n',' ').replace('\\t', ' '), insert_script.replace('\\n',' ').replace('\\t', ' ')"
   ]
  },
  {
   "cell_type": "code",
   "execution_count": 131,
   "metadata": {},
   "outputs": [],
   "source": [
    "# pd.set_option(\"display.max_rows\", None, \"display.max_columns\", None)\n",
    "pd.reset_option('all')"
   ]
  },
  {
   "cell_type": "code",
   "execution_count": 132,
   "metadata": {},
   "outputs": [],
   "source": [
    "insert_script = ''\n",
    "with open('/Users/kunwooshin/Desktop/VLDB/nl2sql/spider/database/car_1/car_1.txt') as f:\n",
    "    for line in f:\n",
    "        if ('INSERT' in line):\n",
    "            insert_script += line\n",
    "            \n",
    "ddl_tbl.loc[(ddl_tbl['db_id'] == 'car_1'), 'INSERT']= insert_script"
   ]
  },
  {
   "cell_type": "code",
   "execution_count": 133,
   "metadata": {},
   "outputs": [],
   "source": [
    "insert_script = ''\n",
    "with open('/Users/kunwooshin/Desktop/VLDB/nl2sql/spider/database/flight_2/flight_2.txt') as f:\n",
    "    for line in f:\n",
    "        if ('INSERT' in line):\n",
    "            insert_script += line\n",
    "    \n",
    "ddl_tbl.loc[(ddl_tbl['db_id'] == 'flight_2'), 'INSERT']= insert_script"
   ]
  },
  {
   "cell_type": "code",
   "execution_count": 134,
   "metadata": {},
   "outputs": [],
   "source": [
    "insert_script = ''\n",
    "with open('/Users/kunwooshin/Desktop/VLDB/nl2sql/spider/database/wine_1/wine_1.txt') as f:\n",
    "    for line in f:\n",
    "        if ('INSERT' in line):\n",
    "            insert_script += line\n",
    "\n",
    "ddl_tbl.loc[(ddl_tbl['db_id'] == 'wine_1'), 'INSERT']= insert_script"
   ]
  },
  {
   "cell_type": "code",
   "execution_count": 135,
   "metadata": {},
   "outputs": [],
   "source": [
    "insert_script = ''\n",
    "with open('/Users/kunwooshin/Desktop/VLDB/nl2sql/spider/database/student_1/student_1.txt') as f:\n",
    "    for line in f:\n",
    "        if ('INSERT' in line):\n",
    "            insert_script += line\n",
    "\n",
    "ddl_tbl.loc[(ddl_tbl['db_id'] == 'student_1'), 'INSERT']= insert_script"
   ]
  },
  {
   "cell_type": "code",
   "execution_count": 136,
   "metadata": {},
   "outputs": [],
   "source": [
    "spider = pd.read_csv('/Users/kunwooshin/Downloads/SPIDER_248.csv', index_col=False)"
   ]
  },
  {
   "cell_type": "code",
   "execution_count": 137,
   "metadata": {},
   "outputs": [],
   "source": [
    "db_list1 = set(spider['db_id'].unique())"
   ]
  },
  {
   "cell_type": "code",
   "execution_count": 138,
   "metadata": {},
   "outputs": [],
   "source": [
    "db_list2 = set(ddl_tbl['db_id'].unique())"
   ]
  },
  {
   "cell_type": "code",
   "execution_count": 139,
   "metadata": {},
   "outputs": [
    {
     "data": {
      "text/plain": [
       "{'chinook_1', 'epinions_1', 'icfp_1', 'small_bank_1', 'twitter_1', 'voter_1'}"
      ]
     },
     "execution_count": 139,
     "metadata": {},
     "output_type": "execute_result"
    }
   ],
   "source": [
    "db_list1 - db_list2"
   ]
  },
  {
   "cell_type": "code",
   "execution_count": 140,
   "metadata": {},
   "outputs": [],
   "source": [
    "##### SQLITE FILE #####\n",
    "import sqlite3\n",
    "\n",
    "dir_name = '/Users/kunwooshin/Desktop/VLDB/nl2sql/spider/database/'\n",
    "db_id_lite = ['chinook_1', 'epinions_1', 'icfp_1', 'small_bank_1', 'twitter_1', 'voter_1', 'formula_1', '']\n",
    "file_path_lite = [dir_name + db_id  for db_id in db_id_lite]\n",
    "\n",
    "files_lite = []\n",
    "for file_path in file_path_lite:\n",
    "    files_lite += (os.listdir(file_path))\n",
    "\n",
    "ddl_files_lite = [filename for filename in files_lite if filename.endswith(\".sqlite\")]\n",
    "\n",
    "ddl_tbl_lite = pd.DataFrame({'db_id':db_id_lite, 'CREATE':'', 'INSERT':None})\n",
    "\n",
    "for i in range(len(ddl_files_lite)):\n",
    "    create_script = ''\n",
    "    insert_script_lite = ''\n",
    "    \n",
    "    conn = sqlite3.connect(dir_name + db_id_lite[i] + '/' + ddl_files_lite[i])\n",
    "    cur = conn.cursor()\n",
    "    \n",
    "    # extract CREATE TABLE queries\n",
    "    cur.execute(\"SELECT sql FROM sqlite_master WHERE type='table'\")\n",
    "    while True:\n",
    "        line = cur.fetchone()\n",
    "        if line is None:\n",
    "            break\n",
    "        create_script += line[0]\n",
    "    \n",
    "    # extract sample rows of tables for each db_ib\n",
    "    cur.execute(\"SELECT name FROM sqlite_master WHERE type='table'\")\n",
    "    table_list = cur.fetchall()\n",
    "\n",
    "    for (table_name,) in table_list:\n",
    "        rows = []\n",
    "        \n",
    "        query = f\"SELECT * FROM {table_name}\" \n",
    "        cur.execute(query)\n",
    "        \n",
    "        while True:\n",
    "            line = cur.fetchone()\n",
    "            if line is None:\n",
    "                break\n",
    "            insert_q = f\"INSERT INTO {table_name} VALUES {line}; \\n\"\n",
    "            insert_script_lite += insert_q\n",
    "\n",
    "    conn.close()\n",
    "    \n",
    "    ddl_tbl_lite.iloc[i, 1], ddl_tbl_lite.iloc[i, 2] = create_script.replace('\\n',' '), insert_script_lite.replace('\\n',' ')"
   ]
  },
  {
   "cell_type": "code",
   "execution_count": 141,
   "metadata": {},
   "outputs": [
    {
     "data": {
      "text/html": [
       "<div>\n",
       "<style scoped>\n",
       "    .dataframe tbody tr th:only-of-type {\n",
       "        vertical-align: middle;\n",
       "    }\n",
       "\n",
       "    .dataframe tbody tr th {\n",
       "        vertical-align: top;\n",
       "    }\n",
       "\n",
       "    .dataframe thead th {\n",
       "        text-align: right;\n",
       "    }\n",
       "</style>\n",
       "<table border=\"1\" class=\"dataframe\">\n",
       "  <thead>\n",
       "    <tr style=\"text-align: right;\">\n",
       "      <th></th>\n",
       "      <th>db_id</th>\n",
       "      <th>CREATE</th>\n",
       "      <th>INSERT</th>\n",
       "    </tr>\n",
       "  </thead>\n",
       "  <tbody>\n",
       "    <tr>\n",
       "      <th>0</th>\n",
       "      <td>chinook_1</td>\n",
       "      <td>CREATE TABLE `Album` (   `AlbumId` integer NOT...</td>\n",
       "      <td>INSERT INTO Album VALUES (1, 'For Those About ...</td>\n",
       "    </tr>\n",
       "    <tr>\n",
       "      <th>1</th>\n",
       "      <td>epinions_1</td>\n",
       "      <td>CREATE TABLE `item` (   `i_id` integer NOT NUL...</td>\n",
       "      <td>INSERT INTO item VALUES (0, 'pear');  INSERT I...</td>\n",
       "    </tr>\n",
       "    <tr>\n",
       "      <th>2</th>\n",
       "      <td>icfp_1</td>\n",
       "      <td>CREATE TABLE Inst (   instID INTEGER,   name T...</td>\n",
       "      <td>INSERT INTO Inst VALUES (1000, 'University of ...</td>\n",
       "    </tr>\n",
       "    <tr>\n",
       "      <th>3</th>\n",
       "      <td>small_bank_1</td>\n",
       "      <td>CREATE TABLE ACCOUNTS (     custid      BIGINT...</td>\n",
       "      <td>INSERT INTO ACCOUNTS VALUES (1, 'Brown');  INS...</td>\n",
       "    </tr>\n",
       "    <tr>\n",
       "      <th>4</th>\n",
       "      <td>twitter_1</td>\n",
       "      <td>CREATE TABLE `follows` (   `f1` int(11) NOT NU...</td>\n",
       "      <td>INSERT INTO follows VALUES (1, 2);  INSERT INT...</td>\n",
       "    </tr>\n",
       "    <tr>\n",
       "      <th>5</th>\n",
       "      <td>voter_1</td>\n",
       "      <td>CREATE TABLE `AREA_CODE_STATE` (   `area_code`...</td>\n",
       "      <td>INSERT INTO AREA_CODE_STATE VALUES (201, 'NJ')...</td>\n",
       "    </tr>\n",
       "    <tr>\n",
       "      <th>6</th>\n",
       "      <td>formula_1</td>\n",
       "      <td>CREATE TABLE \"circuits\" ( \"circuitId\" INTEGER ...</td>\n",
       "      <td>INSERT INTO circuits VALUES (1, 'albert_park',...</td>\n",
       "    </tr>\n",
       "    <tr>\n",
       "      <th>7</th>\n",
       "      <td>csu_1</td>\n",
       "      <td>CREATE TABLE \"Campuses\" ( \\t\"Id\" INTEGER PRIMA...</td>\n",
       "      <td>INSERT INTO Campuses VALUES (1, 'California St...</td>\n",
       "    </tr>\n",
       "  </tbody>\n",
       "</table>\n",
       "</div>"
      ],
      "text/plain": [
       "          db_id                                             CREATE  \\\n",
       "0     chinook_1  CREATE TABLE `Album` (   `AlbumId` integer NOT...   \n",
       "1    epinions_1  CREATE TABLE `item` (   `i_id` integer NOT NUL...   \n",
       "2        icfp_1  CREATE TABLE Inst (   instID INTEGER,   name T...   \n",
       "3  small_bank_1  CREATE TABLE ACCOUNTS (     custid      BIGINT...   \n",
       "4     twitter_1  CREATE TABLE `follows` (   `f1` int(11) NOT NU...   \n",
       "5       voter_1  CREATE TABLE `AREA_CODE_STATE` (   `area_code`...   \n",
       "6     formula_1  CREATE TABLE \"circuits\" ( \"circuitId\" INTEGER ...   \n",
       "7         csu_1  CREATE TABLE \"Campuses\" ( \\t\"Id\" INTEGER PRIMA...   \n",
       "\n",
       "                                              INSERT  \n",
       "0  INSERT INTO Album VALUES (1, 'For Those About ...  \n",
       "1  INSERT INTO item VALUES (0, 'pear');  INSERT I...  \n",
       "2  INSERT INTO Inst VALUES (1000, 'University of ...  \n",
       "3  INSERT INTO ACCOUNTS VALUES (1, 'Brown');  INS...  \n",
       "4  INSERT INTO follows VALUES (1, 2);  INSERT INT...  \n",
       "5  INSERT INTO AREA_CODE_STATE VALUES (201, 'NJ')...  \n",
       "6  INSERT INTO circuits VALUES (1, 'albert_park',...  \n",
       "7  INSERT INTO Campuses VALUES (1, 'California St...  "
      ]
     },
     "execution_count": 141,
     "metadata": {},
     "output_type": "execute_result"
    }
   ],
   "source": [
    "ddl_tbl_lite"
   ]
  },
  {
   "cell_type": "code",
   "execution_count": 142,
   "metadata": {},
   "outputs": [],
   "source": [
    "ddl_tbl_concat = pd.concat([ddl_tbl, ddl_tbl_lite], ignore_index=True)"
   ]
  },
  {
   "cell_type": "code",
   "execution_count": 143,
   "metadata": {},
   "outputs": [
    {
     "data": {
      "text/plain": [
       "(166, 3)"
      ]
     },
     "execution_count": 143,
     "metadata": {},
     "output_type": "execute_result"
    }
   ],
   "source": [
    "ddl_tbl_concat.shape"
   ]
  },
  {
   "cell_type": "code",
   "execution_count": 145,
   "metadata": {},
   "outputs": [],
   "source": [
    "ddl_tbl_concat.to_csv('ddl_tbl.csv')"
   ]
  },
  {
   "cell_type": "code",
   "execution_count": null,
   "metadata": {},
   "outputs": [],
   "source": []
  },
  {
   "cell_type": "code",
   "execution_count": null,
   "metadata": {},
   "outputs": [],
   "source": []
  }
 ],
 "metadata": {
  "kernelspec": {
   "display_name": "Python 3 (ipykernel)",
   "language": "python",
   "name": "python3"
  },
  "language_info": {
   "codemirror_mode": {
    "name": "ipython",
    "version": 3
   },
   "file_extension": ".py",
   "mimetype": "text/x-python",
   "name": "python",
   "nbconvert_exporter": "python",
   "pygments_lexer": "ipython3",
   "version": "3.10.6"
  }
 },
 "nbformat": 4,
 "nbformat_minor": 5
}
