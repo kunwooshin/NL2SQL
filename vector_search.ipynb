{
 "cells": [
  {
   "cell_type": "markdown",
   "metadata": {},
   "source": [
    "# Vector Search\n",
    "## Using langchain for utilizing OpenAI embedding model"
   ]
  },
  {
   "cell_type": "code",
   "execution_count": 19,
   "metadata": {},
   "outputs": [
    {
     "name": "stdout",
     "output_type": "stream",
     "text": [
      "Requirement already satisfied: langchain in /Users/kunwooshin/openai-env/lib/python3.11/site-packages (0.0.343)\n",
      "Requirement already satisfied: PyYAML>=5.3 in /Users/kunwooshin/openai-env/lib/python3.11/site-packages (from langchain) (6.0.1)\n",
      "Requirement already satisfied: SQLAlchemy<3,>=1.4 in /Users/kunwooshin/openai-env/lib/python3.11/site-packages (from langchain) (2.0.23)\n",
      "Requirement already satisfied: aiohttp<4.0.0,>=3.8.3 in /Users/kunwooshin/openai-env/lib/python3.11/site-packages (from langchain) (3.9.1)\n",
      "Requirement already satisfied: anyio<4.0 in /Users/kunwooshin/openai-env/lib/python3.11/site-packages (from langchain) (3.7.1)\n",
      "Requirement already satisfied: dataclasses-json<0.7,>=0.5.7 in /Users/kunwooshin/openai-env/lib/python3.11/site-packages (from langchain) (0.6.3)\n",
      "Requirement already satisfied: jsonpatch<2.0,>=1.33 in /Users/kunwooshin/openai-env/lib/python3.11/site-packages (from langchain) (1.33)\n",
      "Requirement already satisfied: langchain-core<0.1,>=0.0.7 in /Users/kunwooshin/openai-env/lib/python3.11/site-packages (from langchain) (0.0.7)\n",
      "Requirement already satisfied: langsmith<0.1.0,>=0.0.63 in /Users/kunwooshin/openai-env/lib/python3.11/site-packages (from langchain) (0.0.67)\n",
      "Requirement already satisfied: numpy<2,>=1 in /Users/kunwooshin/openai-env/lib/python3.11/site-packages (from langchain) (1.26.2)\n",
      "Requirement already satisfied: pydantic<3,>=1 in /Users/kunwooshin/openai-env/lib/python3.11/site-packages (from langchain) (2.5.2)\n",
      "Requirement already satisfied: requests<3,>=2 in /Users/kunwooshin/openai-env/lib/python3.11/site-packages (from langchain) (2.31.0)\n",
      "Requirement already satisfied: tenacity<9.0.0,>=8.1.0 in /Users/kunwooshin/openai-env/lib/python3.11/site-packages (from langchain) (8.2.3)\n",
      "Requirement already satisfied: attrs>=17.3.0 in /Users/kunwooshin/openai-env/lib/python3.11/site-packages (from aiohttp<4.0.0,>=3.8.3->langchain) (23.1.0)\n",
      "Requirement already satisfied: multidict<7.0,>=4.5 in /Users/kunwooshin/openai-env/lib/python3.11/site-packages (from aiohttp<4.0.0,>=3.8.3->langchain) (6.0.4)\n",
      "Requirement already satisfied: yarl<2.0,>=1.0 in /Users/kunwooshin/openai-env/lib/python3.11/site-packages (from aiohttp<4.0.0,>=3.8.3->langchain) (1.9.3)\n",
      "Requirement already satisfied: frozenlist>=1.1.1 in /Users/kunwooshin/openai-env/lib/python3.11/site-packages (from aiohttp<4.0.0,>=3.8.3->langchain) (1.4.0)\n",
      "Requirement already satisfied: aiosignal>=1.1.2 in /Users/kunwooshin/openai-env/lib/python3.11/site-packages (from aiohttp<4.0.0,>=3.8.3->langchain) (1.3.1)\n",
      "Requirement already satisfied: idna>=2.8 in /Users/kunwooshin/openai-env/lib/python3.11/site-packages (from anyio<4.0->langchain) (3.6)\n",
      "Requirement already satisfied: sniffio>=1.1 in /Users/kunwooshin/openai-env/lib/python3.11/site-packages (from anyio<4.0->langchain) (1.3.0)\n",
      "Requirement already satisfied: marshmallow<4.0.0,>=3.18.0 in /Users/kunwooshin/openai-env/lib/python3.11/site-packages (from dataclasses-json<0.7,>=0.5.7->langchain) (3.20.1)\n",
      "Requirement already satisfied: typing-inspect<1,>=0.4.0 in /Users/kunwooshin/openai-env/lib/python3.11/site-packages (from dataclasses-json<0.7,>=0.5.7->langchain) (0.9.0)\n",
      "Requirement already satisfied: jsonpointer>=1.9 in /Users/kunwooshin/openai-env/lib/python3.11/site-packages (from jsonpatch<2.0,>=1.33->langchain) (2.4)\n",
      "Requirement already satisfied: annotated-types>=0.4.0 in /Users/kunwooshin/openai-env/lib/python3.11/site-packages (from pydantic<3,>=1->langchain) (0.6.0)\n",
      "Requirement already satisfied: pydantic-core==2.14.5 in /Users/kunwooshin/openai-env/lib/python3.11/site-packages (from pydantic<3,>=1->langchain) (2.14.5)\n",
      "Requirement already satisfied: typing-extensions>=4.6.1 in /Users/kunwooshin/openai-env/lib/python3.11/site-packages (from pydantic<3,>=1->langchain) (4.8.0)\n",
      "Requirement already satisfied: charset-normalizer<4,>=2 in /Users/kunwooshin/openai-env/lib/python3.11/site-packages (from requests<3,>=2->langchain) (3.3.2)\n",
      "Requirement already satisfied: urllib3<3,>=1.21.1 in /Users/kunwooshin/openai-env/lib/python3.11/site-packages (from requests<3,>=2->langchain) (2.1.0)\n",
      "Requirement already satisfied: certifi>=2017.4.17 in /Users/kunwooshin/openai-env/lib/python3.11/site-packages (from requests<3,>=2->langchain) (2023.11.17)\n",
      "Requirement already satisfied: packaging>=17.0 in /Users/kunwooshin/openai-env/lib/python3.11/site-packages (from marshmallow<4.0.0,>=3.18.0->dataclasses-json<0.7,>=0.5.7->langchain) (23.2)\n",
      "Requirement already satisfied: mypy-extensions>=0.3.0 in /Users/kunwooshin/openai-env/lib/python3.11/site-packages (from typing-inspect<1,>=0.4.0->dataclasses-json<0.7,>=0.5.7->langchain) (1.0.0)\n",
      "Requirement already satisfied: tiktoken in /Users/kunwooshin/openai-env/lib/python3.11/site-packages (0.5.1)\n",
      "Requirement already satisfied: regex>=2022.1.18 in /Users/kunwooshin/openai-env/lib/python3.11/site-packages (from tiktoken) (2023.10.3)\n",
      "Requirement already satisfied: requests>=2.26.0 in /Users/kunwooshin/openai-env/lib/python3.11/site-packages (from tiktoken) (2.31.0)\n",
      "Requirement already satisfied: charset-normalizer<4,>=2 in /Users/kunwooshin/openai-env/lib/python3.11/site-packages (from requests>=2.26.0->tiktoken) (3.3.2)\n",
      "Requirement already satisfied: idna<4,>=2.5 in /Users/kunwooshin/openai-env/lib/python3.11/site-packages (from requests>=2.26.0->tiktoken) (3.6)\n",
      "Requirement already satisfied: urllib3<3,>=1.21.1 in /Users/kunwooshin/openai-env/lib/python3.11/site-packages (from requests>=2.26.0->tiktoken) (2.1.0)\n",
      "Requirement already satisfied: certifi>=2017.4.17 in /Users/kunwooshin/openai-env/lib/python3.11/site-packages (from requests>=2.26.0->tiktoken) (2023.11.17)\n",
      "Requirement already satisfied: openpyxl in /Users/kunwooshin/openai-env/lib/python3.11/site-packages (3.1.2)\n",
      "Requirement already satisfied: et-xmlfile in /Users/kunwooshin/openai-env/lib/python3.11/site-packages (from openpyxl) (1.1.0)\n"
     ]
    }
   ],
   "source": [
    "! pip install langchain\n",
    "! pip install tiktoken\n",
    "\n",
    "# saving dataframe as .xlsx format\n",
    "! pip install openpyxl"
   ]
  },
  {
   "cell_type": "code",
   "execution_count": 20,
   "metadata": {},
   "outputs": [],
   "source": [
    "import pandas as pd\n",
    "import numpy as np\n",
    "\n",
    "from dotenv import load_dotenv\n",
    "import os\n",
    "# from openai import OpenAI\n",
    "from langchain.embeddings.openai import OpenAIEmbeddings\n",
    "from langchain.schema import Document\n",
    "\n",
    "from sklearn.metrics.pairwise import cosine_similarity\n",
    "from sklearn.metrics.pairwise import euclidean_distances\n",
    "from langchain.vectorstores import FAISS\n",
    "\n",
    "import ast\n"
   ]
  },
  {
   "cell_type": "markdown",
   "metadata": {},
   "source": [
    "### import dataset"
   ]
  },
  {
   "cell_type": "code",
   "execution_count": 21,
   "metadata": {},
   "outputs": [],
   "source": [
    "spider_df = pd.read_csv('./git_pull/GS_BKMS2/NL2SQL/rawdata/SPIDER_SELECTED.csv')\n",
    "ddl_df = pd.read_csv('./git_pull/GS_BKMS2/NL2SQL/rawdata/DDL_SELECTED.csv')"
   ]
  },
  {
   "cell_type": "code",
   "execution_count": 22,
   "metadata": {},
   "outputs": [],
   "source": [
    "spider_df = spider_df.loc[:,['original_idx', 'db_id', 'question', 'query']]"
   ]
  },
  {
   "cell_type": "code",
   "execution_count": 23,
   "metadata": {},
   "outputs": [
    {
     "data": {
      "text/html": [
       "<div>\n",
       "<style scoped>\n",
       "    .dataframe tbody tr th:only-of-type {\n",
       "        vertical-align: middle;\n",
       "    }\n",
       "\n",
       "    .dataframe tbody tr th {\n",
       "        vertical-align: top;\n",
       "    }\n",
       "\n",
       "    .dataframe thead th {\n",
       "        text-align: right;\n",
       "    }\n",
       "</style>\n",
       "<table border=\"1\" class=\"dataframe\">\n",
       "  <thead>\n",
       "    <tr style=\"text-align: right;\">\n",
       "      <th></th>\n",
       "      <th>original_idx</th>\n",
       "      <th>db_id</th>\n",
       "      <th>question</th>\n",
       "      <th>query</th>\n",
       "    </tr>\n",
       "  </thead>\n",
       "  <tbody>\n",
       "    <tr>\n",
       "      <th>0</th>\n",
       "      <td>11</td>\n",
       "      <td>department_management</td>\n",
       "      <td>How many departments are led by heads who are ...</td>\n",
       "      <td>SELECT count(*) FROM department WHERE departme...</td>\n",
       "    </tr>\n",
       "    <tr>\n",
       "      <th>1</th>\n",
       "      <td>13</td>\n",
       "      <td>department_management</td>\n",
       "      <td>List the states where both the secretary of 'T...</td>\n",
       "      <td>SELECT T3.born_state FROM department AS T1 JOI...</td>\n",
       "    </tr>\n",
       "    <tr>\n",
       "      <th>2</th>\n",
       "      <td>14</td>\n",
       "      <td>department_management</td>\n",
       "      <td>Which department has more than 1 head at a tim...</td>\n",
       "      <td>SELECT T1.department_id ,  T1.name ,  count(*)...</td>\n",
       "    </tr>\n",
       "  </tbody>\n",
       "</table>\n",
       "</div>"
      ],
      "text/plain": [
       "   original_idx                  db_id  \\\n",
       "0            11  department_management   \n",
       "1            13  department_management   \n",
       "2            14  department_management   \n",
       "\n",
       "                                            question  \\\n",
       "0  How many departments are led by heads who are ...   \n",
       "1  List the states where both the secretary of 'T...   \n",
       "2  Which department has more than 1 head at a tim...   \n",
       "\n",
       "                                               query  \n",
       "0  SELECT count(*) FROM department WHERE departme...  \n",
       "1  SELECT T3.born_state FROM department AS T1 JOI...  \n",
       "2  SELECT T1.department_id ,  T1.name ,  count(*)...  "
      ]
     },
     "execution_count": 23,
     "metadata": {},
     "output_type": "execute_result"
    }
   ],
   "source": [
    "spider_df.head(3)"
   ]
  },
  {
   "cell_type": "markdown",
   "metadata": {},
   "source": [
    "### embedding"
   ]
  },
  {
   "cell_type": "code",
   "execution_count": 24,
   "metadata": {},
   "outputs": [],
   "source": [
    "load_dotenv()\n",
    "OPENAI_API_KEY = os.getenv(\"OPENAI_API_KEY\")\n",
    "\n",
    "# text-embedding-ada-002 embedding model from OpenAI -> results in 1,536 dimensional vector\n",
    "embeddings = OpenAIEmbeddings(\n",
    "    model = \"text-embedding-ada-002\",\n",
    "    openai_api_key = OPENAI_API_KEY \n",
    ")"
   ]
  },
  {
   "cell_type": "code",
   "execution_count": 25,
   "metadata": {},
   "outputs": [],
   "source": [
    "ddl_df['CREATE_cleaned'] = ddl_df['CREATE'].apply(lambda x: x.replace('\\n', ' ').replace('\\t', ' ')\n",
    "                                                            .replace('CREATE TABLE','').replace('IF NOT EXISTS','')\n",
    "                                                            .replace('create table','').replace('if not exists',''))\n",
    "\n",
    "# embedding CREATE TABLE queries\n",
    "ddl_df['ddl_vec'] = embeddings.embed_documents(texts = ddl_df['CREATE_cleaned'])\n",
    "# embedding qNL (natural language questions)\n",
    "spider_df['qnl_vec'] = embeddings.embed_documents(texts = spider_df['question'])\n",
    "\n",
    "# save the resulted embedding vectors to save API cost\n",
    "ddl_df.to_csv('DDL_embed.csv', index = False)\n",
    "spider_df.to_csv('SPIDER_embed.csv', index = False)"
   ]
  },
  {
   "cell_type": "code",
   "execution_count": 26,
   "metadata": {},
   "outputs": [],
   "source": [
    "#### import embedding vectors\n",
    "ddl_emb = pd.read_csv('DDL_embed.csv')\n",
    "spider_emb = pd.read_csv('SPIDER_embed.csv')\n",
    "\n",
    "# convert csv's string representations of embedding vectors into original type after reading the csv file (plain text)\n",
    "ddl_emb['ddl_vec'] = ddl_emb['ddl_vec'].apply(ast.literal_eval)\n",
    "spider_emb['qnl_vec'] = spider_emb['qnl_vec'].apply(ast.literal_eval)"
   ]
  },
  {
   "cell_type": "code",
   "execution_count": 27,
   "metadata": {},
   "outputs": [
    {
     "name": "stdout",
     "output_type": "stream",
     "text": [
      "1536 1536\n"
     ]
    }
   ],
   "source": [
    "# check whether the vectors are in expected dimensions\n",
    "print(len(spider_df.loc[0, 'qnl_vec']), len(ddl_df.loc[0, 'ddl_vec']))"
   ]
  },
  {
   "cell_type": "markdown",
   "metadata": {},
   "source": [
    "### compute similarity matrix"
   ]
  },
  {
   "cell_type": "markdown",
   "metadata": {},
   "source": [
    "#### qNL ↔︎ DDL"
   ]
  },
  {
   "cell_type": "code",
   "execution_count": 28,
   "metadata": {},
   "outputs": [
    {
     "name": "stdout",
     "output_type": "stream",
     "text": [
      "(224, 434)\n"
     ]
    }
   ],
   "source": [
    "qnl_vec = np.array(spider_emb['qnl_vec'].tolist())\n",
    "ddl_vec = np.array(ddl_emb['ddl_vec'].tolist())\n",
    "\n",
    "similarity_matrix = cosine_similarity(qnl_vec, ddl_vec)\n",
    "# similarity_matrix = 1 - euclidean_distances(spider_vec, ddl_vec)\n",
    "\n",
    "# (224: # of natural language questions, 434: # of ddl)\n",
    "print(similarity_matrix.shape)"
   ]
  },
  {
   "cell_type": "code",
   "execution_count": 29,
   "metadata": {},
   "outputs": [
    {
     "data": {
      "text/html": [
       "<div>\n",
       "<style scoped>\n",
       "    .dataframe tbody tr th:only-of-type {\n",
       "        vertical-align: middle;\n",
       "    }\n",
       "\n",
       "    .dataframe tbody tr th {\n",
       "        vertical-align: top;\n",
       "    }\n",
       "\n",
       "    .dataframe thead th {\n",
       "        text-align: right;\n",
       "    }\n",
       "</style>\n",
       "<table border=\"1\" class=\"dataframe\">\n",
       "  <thead>\n",
       "    <tr style=\"text-align: right;\">\n",
       "      <th></th>\n",
       "      <th>original_idx</th>\n",
       "      <th>qNL</th>\n",
       "      <th>db_id_query</th>\n",
       "      <th>db_id_ddl</th>\n",
       "      <th>table_name</th>\n",
       "      <th>CREATE</th>\n",
       "      <th>similarities</th>\n",
       "    </tr>\n",
       "  </thead>\n",
       "  <tbody>\n",
       "    <tr>\n",
       "      <th>0</th>\n",
       "      <td>11</td>\n",
       "      <td>How many departments are led by heads who are ...</td>\n",
       "      <td>department_management</td>\n",
       "      <td>department_management</td>\n",
       "      <td>department</td>\n",
       "      <td>CREATE TABLE IF NOT EXISTS department (\\n\\tDep...</td>\n",
       "      <td>0.753460</td>\n",
       "    </tr>\n",
       "    <tr>\n",
       "      <th>1</th>\n",
       "      <td>11</td>\n",
       "      <td>How many departments are led by heads who are ...</td>\n",
       "      <td>department_management</td>\n",
       "      <td>department_management</td>\n",
       "      <td>management</td>\n",
       "      <td>CREATE TABLE IF NOT EXISTS management (\\n\\tDep...</td>\n",
       "      <td>0.751721</td>\n",
       "    </tr>\n",
       "    <tr>\n",
       "      <th>2</th>\n",
       "      <td>11</td>\n",
       "      <td>How many departments are led by heads who are ...</td>\n",
       "      <td>department_management</td>\n",
       "      <td>hr_1</td>\n",
       "      <td>departments</td>\n",
       "      <td>CREATE TABLE IF NOT EXISTS departments (\\n  DE...</td>\n",
       "      <td>0.751448</td>\n",
       "    </tr>\n",
       "    <tr>\n",
       "      <th>3</th>\n",
       "      <td>11</td>\n",
       "      <td>How many departments are led by heads who are ...</td>\n",
       "      <td>department_management</td>\n",
       "      <td>department_store</td>\n",
       "      <td>Departments</td>\n",
       "      <td>CREATE TABLE Departments (\\ndepartment_id INTE...</td>\n",
       "      <td>0.742923</td>\n",
       "    </tr>\n",
       "    <tr>\n",
       "      <th>4</th>\n",
       "      <td>11</td>\n",
       "      <td>How many departments are led by heads who are ...</td>\n",
       "      <td>department_management</td>\n",
       "      <td>hr_1</td>\n",
       "      <td>employees</td>\n",
       "      <td>CREATE TABLE IF NOT EXISTS employees (\\n  EMPL...</td>\n",
       "      <td>0.729376</td>\n",
       "    </tr>\n",
       "    <tr>\n",
       "      <th>...</th>\n",
       "      <td>...</td>\n",
       "      <td>...</td>\n",
       "      <td>...</td>\n",
       "      <td>...</td>\n",
       "      <td>...</td>\n",
       "      <td>...</td>\n",
       "      <td>...</td>\n",
       "    </tr>\n",
       "    <tr>\n",
       "      <th>1115</th>\n",
       "      <td>7955</td>\n",
       "      <td>Which dogs are of the rarest breed? Show their...</td>\n",
       "      <td>dog_kennels</td>\n",
       "      <td>dog_kennels</td>\n",
       "      <td>Breeds</td>\n",
       "      <td>CREATE TABLE Breeds ( breed_code VARCHAR(20) P...</td>\n",
       "      <td>0.744857</td>\n",
       "    </tr>\n",
       "    <tr>\n",
       "      <th>1116</th>\n",
       "      <td>7955</td>\n",
       "      <td>Which dogs are of the rarest breed? Show their...</td>\n",
       "      <td>dog_kennels</td>\n",
       "      <td>dog_kennels</td>\n",
       "      <td>Treatments</td>\n",
       "      <td>CREATE TABLE Treatments ( treatment_id INTEGER...</td>\n",
       "      <td>0.741661</td>\n",
       "    </tr>\n",
       "    <tr>\n",
       "      <th>1117</th>\n",
       "      <td>7955</td>\n",
       "      <td>Which dogs are of the rarest breed? Show their...</td>\n",
       "      <td>dog_kennels</td>\n",
       "      <td>dog_kennels</td>\n",
       "      <td>Dogs</td>\n",
       "      <td>CREATE TABLE Dogs ( dog_id INTEGER PRIMARY KEY...</td>\n",
       "      <td>0.727230</td>\n",
       "    </tr>\n",
       "    <tr>\n",
       "      <th>1118</th>\n",
       "      <td>7955</td>\n",
       "      <td>Which dogs are of the rarest breed? Show their...</td>\n",
       "      <td>dog_kennels</td>\n",
       "      <td>pets_1</td>\n",
       "      <td>Pets</td>\n",
       "      <td>CREATE TABLE Pets ( PetID INTEGER PRIMARY KEY,...</td>\n",
       "      <td>0.705754</td>\n",
       "    </tr>\n",
       "    <tr>\n",
       "      <th>1119</th>\n",
       "      <td>7955</td>\n",
       "      <td>Which dogs are of the rarest breed? Show their...</td>\n",
       "      <td>dog_kennels</td>\n",
       "      <td>phone_1</td>\n",
       "      <td>chip_model</td>\n",
       "      <td>CREATE TABLE IF NOT EXISTS chip_model (\\n    M...</td>\n",
       "      <td>0.687129</td>\n",
       "    </tr>\n",
       "  </tbody>\n",
       "</table>\n",
       "<p>1120 rows × 7 columns</p>\n",
       "</div>"
      ],
      "text/plain": [
       "      original_idx                                                qNL  \\\n",
       "0               11  How many departments are led by heads who are ...   \n",
       "1               11  How many departments are led by heads who are ...   \n",
       "2               11  How many departments are led by heads who are ...   \n",
       "3               11  How many departments are led by heads who are ...   \n",
       "4               11  How many departments are led by heads who are ...   \n",
       "...            ...                                                ...   \n",
       "1115          7955  Which dogs are of the rarest breed? Show their...   \n",
       "1116          7955  Which dogs are of the rarest breed? Show their...   \n",
       "1117          7955  Which dogs are of the rarest breed? Show their...   \n",
       "1118          7955  Which dogs are of the rarest breed? Show their...   \n",
       "1119          7955  Which dogs are of the rarest breed? Show their...   \n",
       "\n",
       "                db_id_query              db_id_ddl   table_name  \\\n",
       "0     department_management  department_management   department   \n",
       "1     department_management  department_management   management   \n",
       "2     department_management                   hr_1  departments   \n",
       "3     department_management       department_store  Departments   \n",
       "4     department_management                   hr_1    employees   \n",
       "...                     ...                    ...          ...   \n",
       "1115            dog_kennels            dog_kennels       Breeds   \n",
       "1116            dog_kennels            dog_kennels   Treatments   \n",
       "1117            dog_kennels            dog_kennels         Dogs   \n",
       "1118            dog_kennels                 pets_1         Pets   \n",
       "1119            dog_kennels                phone_1   chip_model   \n",
       "\n",
       "                                                 CREATE  similarities  \n",
       "0     CREATE TABLE IF NOT EXISTS department (\\n\\tDep...      0.753460  \n",
       "1     CREATE TABLE IF NOT EXISTS management (\\n\\tDep...      0.751721  \n",
       "2     CREATE TABLE IF NOT EXISTS departments (\\n  DE...      0.751448  \n",
       "3     CREATE TABLE Departments (\\ndepartment_id INTE...      0.742923  \n",
       "4     CREATE TABLE IF NOT EXISTS employees (\\n  EMPL...      0.729376  \n",
       "...                                                 ...           ...  \n",
       "1115  CREATE TABLE Breeds ( breed_code VARCHAR(20) P...      0.744857  \n",
       "1116  CREATE TABLE Treatments ( treatment_id INTEGER...      0.741661  \n",
       "1117  CREATE TABLE Dogs ( dog_id INTEGER PRIMARY KEY...      0.727230  \n",
       "1118  CREATE TABLE Pets ( PetID INTEGER PRIMARY KEY,...      0.705754  \n",
       "1119  CREATE TABLE IF NOT EXISTS chip_model (\\n    M...      0.687129  \n",
       "\n",
       "[1120 rows x 7 columns]"
      ]
     },
     "execution_count": 29,
     "metadata": {},
     "output_type": "execute_result"
    }
   ],
   "source": [
    "result = []\n",
    "\n",
    "# iterate through each query to find the top 5 similar CREATE TABLE queries\n",
    "# e.g., 0, 'How many departments are led by heads who are not mentioned?'\n",
    "for i, qnl in enumerate(spider_emb['question']):\n",
    "    original_idx, db_id_query = spider_emb.loc[i, ['original_idx', 'db_id']]\n",
    "    \n",
    "    similarities = similarity_matrix[i] # 434 CREATE queries\n",
    "\n",
    "    ddl_similarities = [(ddl_emb.loc[j, 'db_id'], ddl_emb.loc[j, 'table_name'], ddl_emb.loc[j, 'CREATE'], sim) for j, sim in enumerate(similarities)]\n",
    "\n",
    "    # Sorting based on similarity score and selecting the top 5\n",
    "    relevent_ddl = sorted(ddl_similarities, key=lambda x: x[3], reverse=True)[:5]\n",
    "\n",
    "    # Adding the results to the result list\n",
    "    for db_id_ddl, table_name, create, sim in relevent_ddl:\n",
    "        result.append([original_idx, qnl, db_id_query, db_id_ddl, table_name, create, sim])\n",
    "\n",
    "# Creating the result DataFrame\n",
    "result_df = pd.DataFrame(result, columns=['original_idx', 'qNL', 'db_id_query', 'db_id_ddl', 'table_name', 'CREATE', 'similarities'])\n",
    "result_df"
   ]
  },
  {
   "cell_type": "code",
   "execution_count": 30,
   "metadata": {},
   "outputs": [
    {
     "name": "stdout",
     "output_type": "stream",
     "text": [
      "2.700892857142857\n"
     ]
    }
   ],
   "source": [
    "# out of the top 5 similar CREATE TABLE queries, 2.7 db_ids on average do not match the true db_id\n",
    "result_df['mismatch'] = (result_df['db_id_query'] != result_df['db_id_ddl']).astype(int)\n",
    "mismatch_count = result_df.groupby('original_idx')['mismatch'].sum()\n",
    "\n",
    "print(np.average(mismatch_count))"
   ]
  },
  {
   "cell_type": "markdown",
   "metadata": {},
   "source": [
    "#### qNL ↔︎ qNL"
   ]
  },
  {
   "cell_type": "code",
   "execution_count": 31,
   "metadata": {},
   "outputs": [
    {
     "name": "stdout",
     "output_type": "stream",
     "text": [
      "(224, 224)\n"
     ]
    }
   ],
   "source": [
    "q_similarity_matrix = cosine_similarity(qnl_vec, qnl_vec)\n",
    "# q_similarity_matrix = 1 - euclidean_distances(qnl_vec, qnl_vec)\n",
    "print(q_similarity_matrix.shape)"
   ]
  },
  {
   "cell_type": "code",
   "execution_count": 32,
   "metadata": {},
   "outputs": [
    {
     "data": {
      "text/html": [
       "<div>\n",
       "<style scoped>\n",
       "    .dataframe tbody tr th:only-of-type {\n",
       "        vertical-align: middle;\n",
       "    }\n",
       "\n",
       "    .dataframe tbody tr th {\n",
       "        vertical-align: top;\n",
       "    }\n",
       "\n",
       "    .dataframe thead th {\n",
       "        text-align: right;\n",
       "    }\n",
       "</style>\n",
       "<table border=\"1\" class=\"dataframe\">\n",
       "  <thead>\n",
       "    <tr style=\"text-align: right;\">\n",
       "      <th></th>\n",
       "      <th>original_idx</th>\n",
       "      <th>db_id_query</th>\n",
       "      <th>qNL</th>\n",
       "      <th>qNL_similar</th>\n",
       "      <th>db_id_similar</th>\n",
       "      <th>similarities</th>\n",
       "    </tr>\n",
       "  </thead>\n",
       "  <tbody>\n",
       "    <tr>\n",
       "      <th>0</th>\n",
       "      <td>11</td>\n",
       "      <td>department_management</td>\n",
       "      <td>How many departments are led by heads who are ...</td>\n",
       "      <td>How many departments are led by heads who are ...</td>\n",
       "      <td>department_management</td>\n",
       "      <td>1.000000</td>\n",
       "    </tr>\n",
       "    <tr>\n",
       "      <th>1</th>\n",
       "      <td>11</td>\n",
       "      <td>department_management</td>\n",
       "      <td>How many departments are led by heads who are ...</td>\n",
       "      <td>Which department has more than 1 head at a tim...</td>\n",
       "      <td>department_management</td>\n",
       "      <td>0.878852</td>\n",
       "    </tr>\n",
       "    <tr>\n",
       "      <th>2</th>\n",
       "      <td>11</td>\n",
       "      <td>department_management</td>\n",
       "      <td>How many departments are led by heads who are ...</td>\n",
       "      <td>How many students and instructors are in each ...</td>\n",
       "      <td>college_2</td>\n",
       "      <td>0.828406</td>\n",
       "    </tr>\n",
       "    <tr>\n",
       "      <th>3</th>\n",
       "      <td>11</td>\n",
       "      <td>department_management</td>\n",
       "      <td>How many departments are led by heads who are ...</td>\n",
       "      <td>How many different professors are there for th...</td>\n",
       "      <td>college_1</td>\n",
       "      <td>0.823827</td>\n",
       "    </tr>\n",
       "    <tr>\n",
       "      <th>4</th>\n",
       "      <td>11</td>\n",
       "      <td>department_management</td>\n",
       "      <td>How many departments are led by heads who are ...</td>\n",
       "      <td>What is the name of the department that has th...</td>\n",
       "      <td>college_1</td>\n",
       "      <td>0.820650</td>\n",
       "    </tr>\n",
       "    <tr>\n",
       "      <th>...</th>\n",
       "      <td>...</td>\n",
       "      <td>...</td>\n",
       "      <td>...</td>\n",
       "      <td>...</td>\n",
       "      <td>...</td>\n",
       "      <td>...</td>\n",
       "    </tr>\n",
       "    <tr>\n",
       "      <th>1115</th>\n",
       "      <td>7955</td>\n",
       "      <td>dog_kennels</td>\n",
       "      <td>Which dogs are of the rarest breed? Show their...</td>\n",
       "      <td>Which dogs are of the rarest breed? Show their...</td>\n",
       "      <td>dog_kennels</td>\n",
       "      <td>1.000000</td>\n",
       "    </tr>\n",
       "    <tr>\n",
       "      <th>1116</th>\n",
       "      <td>7955</td>\n",
       "      <td>dog_kennels</td>\n",
       "      <td>Which dogs are of the rarest breed? Show their...</td>\n",
       "      <td>List the names of the dogs of the rarest breed...</td>\n",
       "      <td>dog_kennels</td>\n",
       "      <td>0.968927</td>\n",
       "    </tr>\n",
       "    <tr>\n",
       "      <th>1117</th>\n",
       "      <td>7955</td>\n",
       "      <td>dog_kennels</td>\n",
       "      <td>Which dogs are of the rarest breed? Show their...</td>\n",
       "      <td>Which owner has paid for the most treatments o...</td>\n",
       "      <td>dog_kennels</td>\n",
       "      <td>0.859423</td>\n",
       "    </tr>\n",
       "    <tr>\n",
       "      <th>1118</th>\n",
       "      <td>7955</td>\n",
       "      <td>dog_kennels</td>\n",
       "      <td>Which dogs are of the rarest breed? Show their...</td>\n",
       "      <td>Tell me the owner id and last name of the owne...</td>\n",
       "      <td>dog_kennels</td>\n",
       "      <td>0.856344</td>\n",
       "    </tr>\n",
       "    <tr>\n",
       "      <th>1119</th>\n",
       "      <td>7955</td>\n",
       "      <td>dog_kennels</td>\n",
       "      <td>Which dogs are of the rarest breed? Show their...</td>\n",
       "      <td>Which owner has paid the largest amount of mon...</td>\n",
       "      <td>dog_kennels</td>\n",
       "      <td>0.827659</td>\n",
       "    </tr>\n",
       "  </tbody>\n",
       "</table>\n",
       "<p>1120 rows × 6 columns</p>\n",
       "</div>"
      ],
      "text/plain": [
       "      original_idx            db_id_query  \\\n",
       "0               11  department_management   \n",
       "1               11  department_management   \n",
       "2               11  department_management   \n",
       "3               11  department_management   \n",
       "4               11  department_management   \n",
       "...            ...                    ...   \n",
       "1115          7955            dog_kennels   \n",
       "1116          7955            dog_kennels   \n",
       "1117          7955            dog_kennels   \n",
       "1118          7955            dog_kennels   \n",
       "1119          7955            dog_kennels   \n",
       "\n",
       "                                                    qNL  \\\n",
       "0     How many departments are led by heads who are ...   \n",
       "1     How many departments are led by heads who are ...   \n",
       "2     How many departments are led by heads who are ...   \n",
       "3     How many departments are led by heads who are ...   \n",
       "4     How many departments are led by heads who are ...   \n",
       "...                                                 ...   \n",
       "1115  Which dogs are of the rarest breed? Show their...   \n",
       "1116  Which dogs are of the rarest breed? Show their...   \n",
       "1117  Which dogs are of the rarest breed? Show their...   \n",
       "1118  Which dogs are of the rarest breed? Show their...   \n",
       "1119  Which dogs are of the rarest breed? Show their...   \n",
       "\n",
       "                                            qNL_similar  \\\n",
       "0     How many departments are led by heads who are ...   \n",
       "1     Which department has more than 1 head at a tim...   \n",
       "2     How many students and instructors are in each ...   \n",
       "3     How many different professors are there for th...   \n",
       "4     What is the name of the department that has th...   \n",
       "...                                                 ...   \n",
       "1115  Which dogs are of the rarest breed? Show their...   \n",
       "1116  List the names of the dogs of the rarest breed...   \n",
       "1117  Which owner has paid for the most treatments o...   \n",
       "1118  Tell me the owner id and last name of the owne...   \n",
       "1119  Which owner has paid the largest amount of mon...   \n",
       "\n",
       "              db_id_similar  similarities  \n",
       "0     department_management      1.000000  \n",
       "1     department_management      0.878852  \n",
       "2                 college_2      0.828406  \n",
       "3                 college_1      0.823827  \n",
       "4                 college_1      0.820650  \n",
       "...                     ...           ...  \n",
       "1115            dog_kennels      1.000000  \n",
       "1116            dog_kennels      0.968927  \n",
       "1117            dog_kennels      0.859423  \n",
       "1118            dog_kennels      0.856344  \n",
       "1119            dog_kennels      0.827659  \n",
       "\n",
       "[1120 rows x 6 columns]"
      ]
     },
     "execution_count": 32,
     "metadata": {},
     "output_type": "execute_result"
    }
   ],
   "source": [
    "result_q = []\n",
    "\n",
    "for i, qnl in enumerate(spider_emb['question']):\n",
    "    original_idx, db_id_query = spider_emb.loc[i, ['original_idx', 'db_id']]\n",
    "    \n",
    "    similarities = q_similarity_matrix[i]\n",
    "\n",
    "    qnl_similarities = [(spider_emb.loc[j, 'db_id'], spider_emb.loc[j, 'question'], sim) for j, sim in enumerate(similarities)]\n",
    "\n",
    "    similar_qnl = sorted(qnl_similarities, key=lambda x: x[2], reverse=True)[:5]\n",
    "\n",
    "    for db_id_similar, qnl_similar, sim in similar_qnl:\n",
    "        result_q.append([original_idx, db_id_query, qnl, qnl_similar, db_id_similar, sim])\n",
    "\n",
    "result_df_q = pd.DataFrame(result_q, columns=['original_idx', 'db_id_query', 'qNL', 'qNL_similar', 'db_id_similar', 'similarities'])\n",
    "result_df_q"
   ]
  },
  {
   "cell_type": "code",
   "execution_count": 33,
   "metadata": {},
   "outputs": [
    {
     "name": "stdout",
     "output_type": "stream",
     "text": [
      "2.1026785714285716\n"
     ]
    }
   ],
   "source": [
    "# out of the top 5 similar CREATE TABLE queries, 2.1 db_ids on average do not match the true db_id\n",
    "result_df_q['mismatch'] = (result_df_q['db_id_query'] != result_df_q['db_id_similar']).astype(int)\n",
    "mismatch_count = result_df_q.groupby('original_idx')['mismatch'].sum()\n",
    "\n",
    "print(np.average(mismatch_count))"
   ]
  },
  {
   "cell_type": "code",
   "execution_count": 34,
   "metadata": {},
   "outputs": [],
   "source": [
    "result_df_q.to_excel('similar_questions.xlsx')"
   ]
  },
  {
   "cell_type": "markdown",
   "metadata": {},
   "source": [
    "## Using FAISS (Facebook AI Similarity Search)"
   ]
  },
  {
   "cell_type": "markdown",
   "metadata": {},
   "source": [
    "https://jfan001.medium.com/improving-vector-search-by-converting-documents-to-question-answer-pairs-4ded4769326a"
   ]
  },
  {
   "cell_type": "code",
   "execution_count": 35,
   "metadata": {},
   "outputs": [],
   "source": [
    "qs = []\n",
    "for q in spider_df['question']:\n",
    "    qs.append(Document(page_content=q))"
   ]
  },
  {
   "cell_type": "code",
   "execution_count": 36,
   "metadata": {},
   "outputs": [],
   "source": [
    "embeddings = OpenAIEmbeddings(\n",
    "    model = \"text-embedding-ada-002\",\n",
    "    openai_api_key = OPENAI_API_KEY \n",
    ")\n",
    "\n",
    "qa_db = FAISS.from_documents(qs, embeddings)"
   ]
  },
  {
   "cell_type": "code",
   "execution_count": 37,
   "metadata": {},
   "outputs": [],
   "source": [
    "# returned distance score is L2 distance\n",
    "# https://python.langchain.com/docs/integrations/vectorstores/faiss\n",
    "results = qa_db.similarity_search_with_score(spider_df['question'][0], k=5)"
   ]
  },
  {
   "cell_type": "code",
   "execution_count": 38,
   "metadata": {},
   "outputs": [
    {
     "data": {
      "text/html": [
       "<div>\n",
       "<style scoped>\n",
       "    .dataframe tbody tr th:only-of-type {\n",
       "        vertical-align: middle;\n",
       "    }\n",
       "\n",
       "    .dataframe tbody tr th {\n",
       "        vertical-align: top;\n",
       "    }\n",
       "\n",
       "    .dataframe thead th {\n",
       "        text-align: right;\n",
       "    }\n",
       "</style>\n",
       "<table border=\"1\" class=\"dataframe\">\n",
       "  <thead>\n",
       "    <tr style=\"text-align: right;\">\n",
       "      <th></th>\n",
       "      <th>question</th>\n",
       "      <th>distance</th>\n",
       "    </tr>\n",
       "  </thead>\n",
       "  <tbody>\n",
       "    <tr>\n",
       "      <th>0</th>\n",
       "      <td>page_content='How many departments are led by ...</td>\n",
       "      <td>0.000000</td>\n",
       "    </tr>\n",
       "    <tr>\n",
       "      <th>1</th>\n",
       "      <td>page_content='Which department has more than 1...</td>\n",
       "      <td>0.242296</td>\n",
       "    </tr>\n",
       "    <tr>\n",
       "      <th>2</th>\n",
       "      <td>page_content='How many students and instructor...</td>\n",
       "      <td>0.343188</td>\n",
       "    </tr>\n",
       "    <tr>\n",
       "      <th>3</th>\n",
       "      <td>page_content='How many different professors ar...</td>\n",
       "      <td>0.352416</td>\n",
       "    </tr>\n",
       "    <tr>\n",
       "      <th>4</th>\n",
       "      <td>page_content='What is the name of the departme...</td>\n",
       "      <td>0.358640</td>\n",
       "    </tr>\n",
       "  </tbody>\n",
       "</table>\n",
       "</div>"
      ],
      "text/plain": [
       "                                            question  distance\n",
       "0  page_content='How many departments are led by ...  0.000000\n",
       "1  page_content='Which department has more than 1...  0.242296\n",
       "2  page_content='How many students and instructor...  0.343188\n",
       "3  page_content='How many different professors ar...  0.352416\n",
       "4  page_content='What is the name of the departme...  0.358640"
      ]
     },
     "execution_count": 38,
     "metadata": {},
     "output_type": "execute_result"
    }
   ],
   "source": [
    "\n",
    "df = pd.DataFrame(results, columns=[\"question\", \"distance\"])\n",
    "df"
   ]
  }
 ],
 "metadata": {
  "kernelspec": {
   "display_name": "openai-env",
   "language": "python",
   "name": "python3"
  },
  "language_info": {
   "codemirror_mode": {
    "name": "ipython",
    "version": 3
   },
   "file_extension": ".py",
   "mimetype": "text/x-python",
   "name": "python",
   "nbconvert_exporter": "python",
   "pygments_lexer": "ipython3",
   "version": "3.11.5"
  }
 },
 "nbformat": 4,
 "nbformat_minor": 2
}
