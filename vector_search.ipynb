{
 "cells": [
  {
   "cell_type": "code",
   "execution_count": 90,
   "metadata": {},
   "outputs": [],
   "source": [
    "import pandas as pd\n",
    "import numpy as np\n",
    "\n",
    "from dotenv import load_dotenv\n",
    "import os\n",
    "# from openai import OpenAI\n",
    "from langchain.embeddings.openai import OpenAIEmbeddings\n",
    "\n",
    "from sklearn.metrics.pairwise import cosine_similarity"
   ]
  },
  {
   "cell_type": "code",
   "execution_count": null,
   "metadata": {},
   "outputs": [],
   "source": [
    "! pip install langchain\n",
    "! pip install tiktoken"
   ]
  },
  {
   "cell_type": "code",
   "execution_count": 153,
   "metadata": {},
   "outputs": [],
   "source": [
    "query_df = pd.read_csv('./git_pull/GS_BKMS2/NL2SQL/rawdata/SPIDER_SELECTED.csv')\n",
    "ddl_df = pd.read_csv('./git_pull/GS_BKMS2/NL2SQL/rawdata/DDL_SELECTED.csv')"
   ]
  },
  {
   "cell_type": "code",
   "execution_count": 155,
   "metadata": {},
   "outputs": [],
   "source": [
    "query_df = query_df.loc[:,['original_idx', 'db_id','question','query']]"
   ]
  },
  {
   "cell_type": "code",
   "execution_count": 156,
   "metadata": {},
   "outputs": [
    {
     "data": {
      "text/html": [
       "<div>\n",
       "<style scoped>\n",
       "    .dataframe tbody tr th:only-of-type {\n",
       "        vertical-align: middle;\n",
       "    }\n",
       "\n",
       "    .dataframe tbody tr th {\n",
       "        vertical-align: top;\n",
       "    }\n",
       "\n",
       "    .dataframe thead th {\n",
       "        text-align: right;\n",
       "    }\n",
       "</style>\n",
       "<table border=\"1\" class=\"dataframe\">\n",
       "  <thead>\n",
       "    <tr style=\"text-align: right;\">\n",
       "      <th></th>\n",
       "      <th>original_idx</th>\n",
       "      <th>db_id</th>\n",
       "      <th>question</th>\n",
       "      <th>query</th>\n",
       "    </tr>\n",
       "  </thead>\n",
       "  <tbody>\n",
       "    <tr>\n",
       "      <th>0</th>\n",
       "      <td>11</td>\n",
       "      <td>department_management</td>\n",
       "      <td>How many departments are led by heads who are ...</td>\n",
       "      <td>SELECT count(*) FROM department WHERE departme...</td>\n",
       "    </tr>\n",
       "    <tr>\n",
       "      <th>1</th>\n",
       "      <td>13</td>\n",
       "      <td>department_management</td>\n",
       "      <td>List the states where both the secretary of 'T...</td>\n",
       "      <td>SELECT T3.born_state FROM department AS T1 JOI...</td>\n",
       "    </tr>\n",
       "    <tr>\n",
       "      <th>2</th>\n",
       "      <td>14</td>\n",
       "      <td>department_management</td>\n",
       "      <td>Which department has more than 1 head at a tim...</td>\n",
       "      <td>SELECT T1.department_id ,  T1.name ,  count(*)...</td>\n",
       "    </tr>\n",
       "  </tbody>\n",
       "</table>\n",
       "</div>"
      ],
      "text/plain": [
       "   original_idx                  db_id  \\\n",
       "0            11  department_management   \n",
       "1            13  department_management   \n",
       "2            14  department_management   \n",
       "\n",
       "                                            question  \\\n",
       "0  How many departments are led by heads who are ...   \n",
       "1  List the states where both the secretary of 'T...   \n",
       "2  Which department has more than 1 head at a tim...   \n",
       "\n",
       "                                               query  \n",
       "0  SELECT count(*) FROM department WHERE departme...  \n",
       "1  SELECT T3.born_state FROM department AS T1 JOI...  \n",
       "2  SELECT T1.department_id ,  T1.name ,  count(*)...  "
      ]
     },
     "execution_count": 156,
     "metadata": {},
     "output_type": "execute_result"
    }
   ],
   "source": [
    "query_df.head(3)"
   ]
  },
  {
   "cell_type": "code",
   "execution_count": 157,
   "metadata": {},
   "outputs": [
    {
     "data": {
      "text/plain": [
       "(434, 4)"
      ]
     },
     "execution_count": 157,
     "metadata": {},
     "output_type": "execute_result"
    }
   ],
   "source": [
    "ddl_df.shape"
   ]
  },
  {
   "cell_type": "code",
   "execution_count": 158,
   "metadata": {},
   "outputs": [],
   "source": [
    "qNL = query_df.loc[0, 'question']"
   ]
  },
  {
   "cell_type": "code",
   "execution_count": 159,
   "metadata": {},
   "outputs": [],
   "source": [
    "load_dotenv()\n",
    "OPENAI_API_KEY = os.getenv(\"OPENAI_API_KEY\")\n",
    "\n",
    "embeddings = OpenAIEmbeddings(\n",
    "    model = \"text-embedding-ada-002\",\n",
    "    openai_api_key = OPENAI_API_KEY \n",
    ")"
   ]
  },
  {
   "cell_type": "code",
   "execution_count": 160,
   "metadata": {},
   "outputs": [
    {
     "data": {
      "text/html": [
       "<div>\n",
       "<style scoped>\n",
       "    .dataframe tbody tr th:only-of-type {\n",
       "        vertical-align: middle;\n",
       "    }\n",
       "\n",
       "    .dataframe tbody tr th {\n",
       "        vertical-align: top;\n",
       "    }\n",
       "\n",
       "    .dataframe thead th {\n",
       "        text-align: right;\n",
       "    }\n",
       "</style>\n",
       "<table border=\"1\" class=\"dataframe\">\n",
       "  <thead>\n",
       "    <tr style=\"text-align: right;\">\n",
       "      <th></th>\n",
       "      <th>original_idx</th>\n",
       "      <th>db_id</th>\n",
       "      <th>question</th>\n",
       "      <th>query</th>\n",
       "    </tr>\n",
       "  </thead>\n",
       "  <tbody>\n",
       "    <tr>\n",
       "      <th>0</th>\n",
       "      <td>11</td>\n",
       "      <td>department_management</td>\n",
       "      <td>How many departments are led by heads who are ...</td>\n",
       "      <td>SELECT count(*) FROM department WHERE departme...</td>\n",
       "    </tr>\n",
       "    <tr>\n",
       "      <th>1</th>\n",
       "      <td>13</td>\n",
       "      <td>department_management</td>\n",
       "      <td>List the states where both the secretary of 'T...</td>\n",
       "      <td>SELECT T3.born_state FROM department AS T1 JOI...</td>\n",
       "    </tr>\n",
       "    <tr>\n",
       "      <th>2</th>\n",
       "      <td>14</td>\n",
       "      <td>department_management</td>\n",
       "      <td>Which department has more than 1 head at a tim...</td>\n",
       "      <td>SELECT T1.department_id ,  T1.name ,  count(*)...</td>\n",
       "    </tr>\n",
       "  </tbody>\n",
       "</table>\n",
       "</div>"
      ],
      "text/plain": [
       "   original_idx                  db_id  \\\n",
       "0            11  department_management   \n",
       "1            13  department_management   \n",
       "2            14  department_management   \n",
       "\n",
       "                                            question  \\\n",
       "0  How many departments are led by heads who are ...   \n",
       "1  List the states where both the secretary of 'T...   \n",
       "2  Which department has more than 1 head at a tim...   \n",
       "\n",
       "                                               query  \n",
       "0  SELECT count(*) FROM department WHERE departme...  \n",
       "1  SELECT T3.born_state FROM department AS T1 JOI...  \n",
       "2  SELECT T1.department_id ,  T1.name ,  count(*)...  "
      ]
     },
     "execution_count": 160,
     "metadata": {},
     "output_type": "execute_result"
    }
   ],
   "source": [
    "query_df.head(3)"
   ]
  },
  {
   "cell_type": "code",
   "execution_count": 161,
   "metadata": {},
   "outputs": [],
   "source": [
    "# qNL_vec = embeddings.embed_query(qNL)\n",
    "query_df['qNL_vec'] = embeddings.embed_documents(texts = query_df['question'])"
   ]
  },
  {
   "cell_type": "code",
   "execution_count": 162,
   "metadata": {},
   "outputs": [
    {
     "data": {
      "text/html": [
       "<div>\n",
       "<style scoped>\n",
       "    .dataframe tbody tr th:only-of-type {\n",
       "        vertical-align: middle;\n",
       "    }\n",
       "\n",
       "    .dataframe tbody tr th {\n",
       "        vertical-align: top;\n",
       "    }\n",
       "\n",
       "    .dataframe thead th {\n",
       "        text-align: right;\n",
       "    }\n",
       "</style>\n",
       "<table border=\"1\" class=\"dataframe\">\n",
       "  <thead>\n",
       "    <tr style=\"text-align: right;\">\n",
       "      <th></th>\n",
       "      <th>original_idx</th>\n",
       "      <th>db_id</th>\n",
       "      <th>question</th>\n",
       "      <th>query</th>\n",
       "      <th>qNL_vec</th>\n",
       "    </tr>\n",
       "  </thead>\n",
       "  <tbody>\n",
       "    <tr>\n",
       "      <th>0</th>\n",
       "      <td>11</td>\n",
       "      <td>department_management</td>\n",
       "      <td>How many departments are led by heads who are ...</td>\n",
       "      <td>SELECT count(*) FROM department WHERE departme...</td>\n",
       "      <td>[7.151246667418706e-05, 0.005482243697450374, ...</td>\n",
       "    </tr>\n",
       "    <tr>\n",
       "      <th>1</th>\n",
       "      <td>13</td>\n",
       "      <td>department_management</td>\n",
       "      <td>List the states where both the secretary of 'T...</td>\n",
       "      <td>SELECT T3.born_state FROM department AS T1 JOI...</td>\n",
       "      <td>[0.004536103547238757, -0.02295742974544512, 0...</td>\n",
       "    </tr>\n",
       "    <tr>\n",
       "      <th>2</th>\n",
       "      <td>14</td>\n",
       "      <td>department_management</td>\n",
       "      <td>Which department has more than 1 head at a tim...</td>\n",
       "      <td>SELECT T1.department_id ,  T1.name ,  count(*)...</td>\n",
       "      <td>[0.00690121912939286, 0.0009693379549008529, 0...</td>\n",
       "    </tr>\n",
       "  </tbody>\n",
       "</table>\n",
       "</div>"
      ],
      "text/plain": [
       "   original_idx                  db_id  \\\n",
       "0            11  department_management   \n",
       "1            13  department_management   \n",
       "2            14  department_management   \n",
       "\n",
       "                                            question  \\\n",
       "0  How many departments are led by heads who are ...   \n",
       "1  List the states where both the secretary of 'T...   \n",
       "2  Which department has more than 1 head at a tim...   \n",
       "\n",
       "                                               query  \\\n",
       "0  SELECT count(*) FROM department WHERE departme...   \n",
       "1  SELECT T3.born_state FROM department AS T1 JOI...   \n",
       "2  SELECT T1.department_id ,  T1.name ,  count(*)...   \n",
       "\n",
       "                                             qNL_vec  \n",
       "0  [7.151246667418706e-05, 0.005482243697450374, ...  \n",
       "1  [0.004536103547238757, -0.02295742974544512, 0...  \n",
       "2  [0.00690121912939286, 0.0009693379549008529, 0...  "
      ]
     },
     "execution_count": 162,
     "metadata": {},
     "output_type": "execute_result"
    }
   ],
   "source": [
    "query_df.head(3)"
   ]
  },
  {
   "cell_type": "code",
   "execution_count": 163,
   "metadata": {},
   "outputs": [],
   "source": [
    "ddl_df['CREATE_cleaned'] = ddl_df['CREATE'].apply(lambda x: x.replace('\\n', ' ').replace('\\t', ' '))"
   ]
  },
  {
   "cell_type": "code",
   "execution_count": 164,
   "metadata": {},
   "outputs": [],
   "source": [
    "ddl_df['DDL_vec'] = embeddings.embed_documents(texts = ddl_df['CREATE_cleaned'])"
   ]
  },
  {
   "cell_type": "code",
   "execution_count": 165,
   "metadata": {},
   "outputs": [
    {
     "data": {
      "text/plain": [
       "1536"
      ]
     },
     "execution_count": 165,
     "metadata": {},
     "output_type": "execute_result"
    }
   ],
   "source": [
    "len(ddl_df.loc[0, 'DDL_vec'])"
   ]
  },
  {
   "cell_type": "code",
   "execution_count": 166,
   "metadata": {},
   "outputs": [
    {
     "data": {
      "text/html": [
       "<div>\n",
       "<style scoped>\n",
       "    .dataframe tbody tr th:only-of-type {\n",
       "        vertical-align: middle;\n",
       "    }\n",
       "\n",
       "    .dataframe tbody tr th {\n",
       "        vertical-align: top;\n",
       "    }\n",
       "\n",
       "    .dataframe thead th {\n",
       "        text-align: right;\n",
       "    }\n",
       "</style>\n",
       "<table border=\"1\" class=\"dataframe\">\n",
       "  <thead>\n",
       "    <tr style=\"text-align: right;\">\n",
       "      <th></th>\n",
       "      <th>db_id</th>\n",
       "      <th>table_name</th>\n",
       "      <th>CREATE</th>\n",
       "      <th>INSERT</th>\n",
       "      <th>CREATE_cleaned</th>\n",
       "      <th>DDL_vec</th>\n",
       "    </tr>\n",
       "  </thead>\n",
       "  <tbody>\n",
       "    <tr>\n",
       "      <th>0</th>\n",
       "      <td>department_management</td>\n",
       "      <td>department</td>\n",
       "      <td>CREATE TABLE IF NOT EXISTS department (\\n\\tDep...</td>\n",
       "      <td>INSERT INTO department VALUES(1,'State','1789'...</td>\n",
       "      <td>CREATE TABLE IF NOT EXISTS department (  Depar...</td>\n",
       "      <td>[-0.003998750327493227, 0.01744909199948951, -...</td>\n",
       "    </tr>\n",
       "    <tr>\n",
       "      <th>1</th>\n",
       "      <td>department_management</td>\n",
       "      <td>head</td>\n",
       "      <td>CREATE TABLE IF NOT EXISTS head (\\n\\thead_ID i...</td>\n",
       "      <td>INSERT INTO head VALUES(1,'Tiger Woods','Alaba...</td>\n",
       "      <td>CREATE TABLE IF NOT EXISTS head (  head_ID int...</td>\n",
       "      <td>[-0.0015511123537666942, 0.01737107478940505, ...</td>\n",
       "    </tr>\n",
       "    <tr>\n",
       "      <th>2</th>\n",
       "      <td>department_management</td>\n",
       "      <td>management</td>\n",
       "      <td>CREATE TABLE IF NOT EXISTS management (\\n\\tDep...</td>\n",
       "      <td>INSERT INTO management VALUES(2,5,'Yes');\\nINS...</td>\n",
       "      <td>CREATE TABLE IF NOT EXISTS management (  Depar...</td>\n",
       "      <td>[-0.013841755627047652, 0.011188296730288663, ...</td>\n",
       "    </tr>\n",
       "  </tbody>\n",
       "</table>\n",
       "</div>"
      ],
      "text/plain": [
       "                   db_id  table_name  \\\n",
       "0  department_management  department   \n",
       "1  department_management        head   \n",
       "2  department_management  management   \n",
       "\n",
       "                                              CREATE  \\\n",
       "0  CREATE TABLE IF NOT EXISTS department (\\n\\tDep...   \n",
       "1  CREATE TABLE IF NOT EXISTS head (\\n\\thead_ID i...   \n",
       "2  CREATE TABLE IF NOT EXISTS management (\\n\\tDep...   \n",
       "\n",
       "                                              INSERT  \\\n",
       "0  INSERT INTO department VALUES(1,'State','1789'...   \n",
       "1  INSERT INTO head VALUES(1,'Tiger Woods','Alaba...   \n",
       "2  INSERT INTO management VALUES(2,5,'Yes');\\nINS...   \n",
       "\n",
       "                                      CREATE_cleaned  \\\n",
       "0  CREATE TABLE IF NOT EXISTS department (  Depar...   \n",
       "1  CREATE TABLE IF NOT EXISTS head (  head_ID int...   \n",
       "2  CREATE TABLE IF NOT EXISTS management (  Depar...   \n",
       "\n",
       "                                             DDL_vec  \n",
       "0  [-0.003998750327493227, 0.01744909199948951, -...  \n",
       "1  [-0.0015511123537666942, 0.01737107478940505, ...  \n",
       "2  [-0.013841755627047652, 0.011188296730288663, ...  "
      ]
     },
     "execution_count": 166,
     "metadata": {},
     "output_type": "execute_result"
    }
   ],
   "source": [
    "ddl_df.head(3)"
   ]
  },
  {
   "cell_type": "code",
   "execution_count": 173,
   "metadata": {},
   "outputs": [],
   "source": [
    "qNL_vec = np.array(query_df['qNL_vec'].tolist())\n",
    "DDL_vec = np.array(ddl_df['DDL_vec'].tolist())\n",
    "\n",
    "similarity_matrix = cosine_similarity(qNL_vec, DDL_vec)\n",
    "\n",
    "result_list = []\n",
    "\n",
    "# Iterating through each query to find the top 5 similar ddl entry\n",
    "for idx, qNL in enumerate(query_df['question']):\n",
    "    original_idx, db_id_query = query_df.loc[idx, ['original_idx','db_id']]\n",
    "    similarities = similarity_matrix[idx]\n",
    "\n",
    "    # Pairing each similarity score with the corresponding ddl entry\n",
    "    ddl_similarities = [(ddl_df.loc[i, 'db_id'], ddl_df.loc[i, 'table_name'], sim) \n",
    "                        for i, sim in enumerate(similarities)]\n",
    "\n",
    "    # Sorting based on similarity score and selecting the top 5\n",
    "    top_5_similar = sorted(ddl_similarities, key=lambda x: x[2], reverse=True)[:5]\n",
    "\n",
    "    # Adding the results to the result list\n",
    "    for db_id_ddl, table_name, sim_score in top_5_similar:\n",
    "        result_list.append([original_idx, qNL, db_id_query, db_id_ddl, table_name])\n",
    "\n",
    "# Creating the result DataFrame\n",
    "result_df = pd.DataFrame(result_list, columns=['original_idx', 'qNL', 'db_id_query', 'db_id_ddl', 'table_name'])"
   ]
  },
  {
   "cell_type": "code",
   "execution_count": 174,
   "metadata": {},
   "outputs": [
    {
     "data": {
      "text/html": [
       "<div>\n",
       "<style scoped>\n",
       "    .dataframe tbody tr th:only-of-type {\n",
       "        vertical-align: middle;\n",
       "    }\n",
       "\n",
       "    .dataframe tbody tr th {\n",
       "        vertical-align: top;\n",
       "    }\n",
       "\n",
       "    .dataframe thead th {\n",
       "        text-align: right;\n",
       "    }\n",
       "</style>\n",
       "<table border=\"1\" class=\"dataframe\">\n",
       "  <thead>\n",
       "    <tr style=\"text-align: right;\">\n",
       "      <th></th>\n",
       "      <th>original_idx</th>\n",
       "      <th>qNL</th>\n",
       "      <th>db_id_query</th>\n",
       "      <th>db_id_ddl</th>\n",
       "      <th>table_name</th>\n",
       "    </tr>\n",
       "  </thead>\n",
       "  <tbody>\n",
       "    <tr>\n",
       "      <th>0</th>\n",
       "      <td>11</td>\n",
       "      <td>How many departments are led by heads who are ...</td>\n",
       "      <td>department_management</td>\n",
       "      <td>department_store</td>\n",
       "      <td>Departments</td>\n",
       "    </tr>\n",
       "    <tr>\n",
       "      <th>1</th>\n",
       "      <td>11</td>\n",
       "      <td>How many departments are led by heads who are ...</td>\n",
       "      <td>department_management</td>\n",
       "      <td>department_management</td>\n",
       "      <td>management</td>\n",
       "    </tr>\n",
       "    <tr>\n",
       "      <th>2</th>\n",
       "      <td>11</td>\n",
       "      <td>How many departments are led by heads who are ...</td>\n",
       "      <td>department_management</td>\n",
       "      <td>department_management</td>\n",
       "      <td>department</td>\n",
       "    </tr>\n",
       "    <tr>\n",
       "      <th>3</th>\n",
       "      <td>11</td>\n",
       "      <td>How many departments are led by heads who are ...</td>\n",
       "      <td>department_management</td>\n",
       "      <td>hr_1</td>\n",
       "      <td>departments</td>\n",
       "    </tr>\n",
       "    <tr>\n",
       "      <th>4</th>\n",
       "      <td>11</td>\n",
       "      <td>How many departments are led by heads who are ...</td>\n",
       "      <td>department_management</td>\n",
       "      <td>college_2</td>\n",
       "      <td>department</td>\n",
       "    </tr>\n",
       "    <tr>\n",
       "      <th>...</th>\n",
       "      <td>...</td>\n",
       "      <td>...</td>\n",
       "      <td>...</td>\n",
       "      <td>...</td>\n",
       "      <td>...</td>\n",
       "    </tr>\n",
       "    <tr>\n",
       "      <th>1115</th>\n",
       "      <td>7955</td>\n",
       "      <td>Which dogs are of the rarest breed? Show their...</td>\n",
       "      <td>dog_kennels</td>\n",
       "      <td>dog_kennels</td>\n",
       "      <td>Breeds</td>\n",
       "    </tr>\n",
       "    <tr>\n",
       "      <th>1116</th>\n",
       "      <td>7955</td>\n",
       "      <td>Which dogs are of the rarest breed? Show their...</td>\n",
       "      <td>dog_kennels</td>\n",
       "      <td>dog_kennels</td>\n",
       "      <td>Treatments</td>\n",
       "    </tr>\n",
       "    <tr>\n",
       "      <th>1117</th>\n",
       "      <td>7955</td>\n",
       "      <td>Which dogs are of the rarest breed? Show their...</td>\n",
       "      <td>dog_kennels</td>\n",
       "      <td>dog_kennels</td>\n",
       "      <td>Dogs</td>\n",
       "    </tr>\n",
       "    <tr>\n",
       "      <th>1118</th>\n",
       "      <td>7955</td>\n",
       "      <td>Which dogs are of the rarest breed? Show their...</td>\n",
       "      <td>dog_kennels</td>\n",
       "      <td>pets_1</td>\n",
       "      <td>Pets</td>\n",
       "    </tr>\n",
       "    <tr>\n",
       "      <th>1119</th>\n",
       "      <td>7955</td>\n",
       "      <td>Which dogs are of the rarest breed? Show their...</td>\n",
       "      <td>dog_kennels</td>\n",
       "      <td>dog_kennels</td>\n",
       "      <td>Treatment_Types</td>\n",
       "    </tr>\n",
       "  </tbody>\n",
       "</table>\n",
       "<p>1120 rows × 5 columns</p>\n",
       "</div>"
      ],
      "text/plain": [
       "      original_idx                                                qNL  \\\n",
       "0               11  How many departments are led by heads who are ...   \n",
       "1               11  How many departments are led by heads who are ...   \n",
       "2               11  How many departments are led by heads who are ...   \n",
       "3               11  How many departments are led by heads who are ...   \n",
       "4               11  How many departments are led by heads who are ...   \n",
       "...            ...                                                ...   \n",
       "1115          7955  Which dogs are of the rarest breed? Show their...   \n",
       "1116          7955  Which dogs are of the rarest breed? Show their...   \n",
       "1117          7955  Which dogs are of the rarest breed? Show their...   \n",
       "1118          7955  Which dogs are of the rarest breed? Show their...   \n",
       "1119          7955  Which dogs are of the rarest breed? Show their...   \n",
       "\n",
       "                db_id_query              db_id_ddl       table_name  \n",
       "0     department_management       department_store      Departments  \n",
       "1     department_management  department_management       management  \n",
       "2     department_management  department_management       department  \n",
       "3     department_management                   hr_1      departments  \n",
       "4     department_management              college_2       department  \n",
       "...                     ...                    ...              ...  \n",
       "1115            dog_kennels            dog_kennels           Breeds  \n",
       "1116            dog_kennels            dog_kennels       Treatments  \n",
       "1117            dog_kennels            dog_kennels             Dogs  \n",
       "1118            dog_kennels                 pets_1             Pets  \n",
       "1119            dog_kennels            dog_kennels  Treatment_Types  \n",
       "\n",
       "[1120 rows x 5 columns]"
      ]
     },
     "execution_count": 174,
     "metadata": {},
     "output_type": "execute_result"
    }
   ],
   "source": [
    "result_df"
   ]
  },
  {
   "cell_type": "code",
   "execution_count": 177,
   "metadata": {},
   "outputs": [
    {
     "data": {
      "text/plain": [
       "original_idx\n",
       "11      3\n",
       "13      5\n",
       "14      3\n",
       "36      3\n",
       "37      3\n",
       "       ..\n",
       "7937    1\n",
       "7940    2\n",
       "7941    2\n",
       "7954    1\n",
       "7955    1\n",
       "Name: mismatch, Length: 224, dtype: int64"
      ]
     },
     "execution_count": 177,
     "metadata": {},
     "output_type": "execute_result"
    }
   ],
   "source": [
    "# Comparing db_id_query and db_id_ddl and counting the number of mismatches for each db_id_query\n",
    "\n",
    "# Creating a column that indicates a mismatch (1) or match (0)\n",
    "result_df['mismatch'] = (result_df['db_id_query'] != result_df['db_id_ddl']).astype(int)\n",
    "\n",
    "# Counting the number of mismatches for each db_id_query\n",
    "mismatch_count = result_df.groupby('original_idx')['mismatch'].sum()\n",
    "\n",
    "mismatch_count"
   ]
  },
  {
   "cell_type": "code",
   "execution_count": null,
   "metadata": {},
   "outputs": [],
   "source": []
  }
 ],
 "metadata": {
  "kernelspec": {
   "display_name": "openai-env",
   "language": "python",
   "name": "python3"
  },
  "language_info": {
   "codemirror_mode": {
    "name": "ipython",
    "version": 3
   },
   "file_extension": ".py",
   "mimetype": "text/x-python",
   "name": "python",
   "nbconvert_exporter": "python",
   "pygments_lexer": "ipython3",
   "version": "3.11.5"
  }
 },
 "nbformat": 4,
 "nbformat_minor": 2
}
